{
  "metadata": {
    "kernelspec": {
      "language": "python",
      "display_name": "Python 3",
      "name": "python3"
    },
    "language_info": {
      "name": "python",
      "version": "3.7.12",
      "mimetype": "text/x-python",
      "codemirror_mode": {
        "name": "ipython",
        "version": 3
      },
      "pygments_lexer": "ipython3",
      "nbconvert_exporter": "python",
      "file_extension": ".py"
    },
    "colab": {
      "name": "Ubiquant market prediction-parameter finder and experiment.ipynb",
      "provenance": []
    }
  },
  "nbformat_minor": 0,
  "nbformat": 4,
  "cells": [
    {
      "cell_type": "markdown",
      "source": [
        "This notebook is written by pythonash.\n",
        "\n",
        "I was meant to find the proper parameter containing learning rate, dropout rate, and so on.\n",
        "\n",
        "This notebook will be modified until either I finally get optimal structure or this competition is ended with my indifference due to my work."
      ],
      "metadata": {
        "id": "KD6gBcwVQS7t"
      }
    },
    {
      "cell_type": "code",
      "source": [
        "import pandas as pd\n",
        "import seaborn as sns\n",
        "import matplotlib.pyplot as plt\n",
        "import numpy as np\n",
        "import tensorflow as tf\n",
        "from sklearn.preprocessing import MinMaxScaler\n",
        "import ubiquant\n",
        "from sklearn.model_selection import KFold\n",
        "import random"
      ],
      "metadata": {
        "papermill": {
          "duration": 5.150271,
          "end_time": "2022-02-17T06:49:49.868958",
          "exception": false,
          "start_time": "2022-02-17T06:49:44.718687",
          "status": "completed"
        },
        "tags": [],
        "execution": {
          "iopub.status.busy": "2022-03-03T09:03:11.955763Z",
          "iopub.execute_input": "2022-03-03T09:03:11.956250Z",
          "iopub.status.idle": "2022-03-03T09:03:16.846843Z",
          "shell.execute_reply.started": "2022-03-03T09:03:11.956214Z",
          "shell.execute_reply": "2022-03-03T09:03:16.846011Z"
        },
        "trusted": true,
        "id": "7IDIXQEyPNZs"
      },
      "execution_count": null,
      "outputs": []
    },
    {
      "cell_type": "code",
      "source": [
        "df = pd.read_parquet('../input/ubiquant-parquet/train_low_mem.parquet')\n",
        "df"
      ],
      "metadata": {
        "papermill": {
          "duration": 42.185531,
          "end_time": "2022-02-17T06:50:32.211548",
          "exception": false,
          "start_time": "2022-02-17T06:49:50.026017",
          "status": "completed"
        },
        "tags": [],
        "execution": {
          "iopub.status.busy": "2022-03-03T09:03:26.943023Z",
          "iopub.execute_input": "2022-03-03T09:03:26.943278Z",
          "iopub.status.idle": "2022-03-03T09:04:05.727905Z",
          "shell.execute_reply.started": "2022-03-03T09:03:26.943251Z",
          "shell.execute_reply": "2022-03-03T09:04:05.727221Z"
        },
        "trusted": true,
        "id": "zvgY3iirPNZ0"
      },
      "execution_count": null,
      "outputs": []
    },
    {
      "cell_type": "code",
      "source": [
        "df.isnull().sum().sum()"
      ],
      "metadata": {
        "papermill": {
          "duration": 2.126468,
          "end_time": "2022-02-17T06:50:34.518416",
          "exception": false,
          "start_time": "2022-02-17T06:50:32.391948",
          "status": "completed"
        },
        "tags": [],
        "execution": {
          "iopub.status.busy": "2022-03-03T09:04:05.729496Z",
          "iopub.execute_input": "2022-03-03T09:04:05.729902Z",
          "iopub.status.idle": "2022-03-03T09:04:08.480981Z",
          "shell.execute_reply.started": "2022-03-03T09:04:05.729867Z",
          "shell.execute_reply": "2022-03-03T09:04:08.480200Z"
        },
        "trusted": true,
        "id": "EesEoLqSPNZ0"
      },
      "execution_count": null,
      "outputs": []
    },
    {
      "cell_type": "code",
      "source": [
        "# pd.read_parquet('../input/ubiquant-parquet/example_sample_submission.parquet')"
      ],
      "metadata": {
        "papermill": {
          "duration": 0.054175,
          "end_time": "2022-02-17T06:50:34.659955",
          "exception": false,
          "start_time": "2022-02-17T06:50:34.60578",
          "status": "completed"
        },
        "tags": [],
        "execution": {
          "iopub.status.busy": "2022-02-21T12:01:58.321529Z",
          "iopub.execute_input": "2022-02-21T12:01:58.321854Z",
          "iopub.status.idle": "2022-02-21T12:01:58.341257Z",
          "shell.execute_reply.started": "2022-02-21T12:01:58.321820Z",
          "shell.execute_reply": "2022-02-21T12:01:58.340397Z"
        },
        "trusted": true,
        "id": "xCofHUrqPNZ1"
      },
      "execution_count": null,
      "outputs": []
    },
    {
      "cell_type": "code",
      "source": [
        "df.columns"
      ],
      "metadata": {
        "papermill": {
          "duration": 0.037416,
          "end_time": "2022-02-17T06:50:34.842349",
          "exception": false,
          "start_time": "2022-02-17T06:50:34.804933",
          "status": "completed"
        },
        "tags": [],
        "execution": {
          "iopub.status.busy": "2022-03-03T09:04:08.482400Z",
          "iopub.execute_input": "2022-03-03T09:04:08.482640Z",
          "iopub.status.idle": "2022-03-03T09:04:08.491216Z",
          "shell.execute_reply.started": "2022-03-03T09:04:08.482607Z",
          "shell.execute_reply": "2022-03-03T09:04:08.490225Z"
        },
        "trusted": true,
        "id": "mtEIZI9dPNZ1"
      },
      "execution_count": null,
      "outputs": []
    },
    {
      "cell_type": "code",
      "source": [
        "f_col = df.drop(['row_id','time_id','investment_id','target'],axis=1).columns\n",
        "f_col"
      ],
      "metadata": {
        "papermill": {
          "duration": 2.06051,
          "end_time": "2022-02-17T06:50:36.991602",
          "exception": false,
          "start_time": "2022-02-17T06:50:34.931092",
          "status": "completed"
        },
        "tags": [],
        "execution": {
          "iopub.status.busy": "2022-03-03T09:04:08.493890Z",
          "iopub.execute_input": "2022-03-03T09:04:08.494221Z",
          "iopub.status.idle": "2022-03-03T09:04:10.754308Z",
          "shell.execute_reply.started": "2022-03-03T09:04:08.494187Z",
          "shell.execute_reply": "2022-03-03T09:04:10.753523Z"
        },
        "trusted": true,
        "id": "7HU8RHAUPNZ2"
      },
      "execution_count": null,
      "outputs": []
    },
    {
      "cell_type": "code",
      "source": [
        "scaler = MinMaxScaler()\n",
        "scaler.fit(pd.DataFrame(df[f_col]))"
      ],
      "metadata": {
        "papermill": {
          "duration": 0.095234,
          "end_time": "2022-02-17T06:50:37.176892",
          "exception": false,
          "start_time": "2022-02-17T06:50:37.081658",
          "status": "completed"
        },
        "tags": [],
        "execution": {
          "iopub.status.busy": "2022-03-03T09:04:10.755788Z",
          "iopub.execute_input": "2022-03-03T09:04:10.756163Z",
          "iopub.status.idle": "2022-03-03T09:04:14.585834Z",
          "shell.execute_reply.started": "2022-03-03T09:04:10.756127Z",
          "shell.execute_reply": "2022-03-03T09:04:14.585167Z"
        },
        "trusted": true,
        "id": "Hl3uby-UPNZ2"
      },
      "execution_count": null,
      "outputs": []
    },
    {
      "cell_type": "code",
      "source": [
        "def make_dataset(df):\n",
        "    f_df = df[f_col]\n",
        "    scaled_f = scaler.transform(pd.DataFrame(f_df))\n",
        "    data_x = pd.DataFrame(scaled_f)\n",
        "    data_x.columns = f_df.columns\n",
        "    del f_df\n",
        "    data_x = data_x.astype('float16')\n",
        "    return data_x"
      ],
      "metadata": {
        "papermill": {
          "duration": 0.037193,
          "end_time": "2022-02-17T06:50:37.308703",
          "exception": false,
          "start_time": "2022-02-17T06:50:37.27151",
          "status": "completed"
        },
        "tags": [],
        "execution": {
          "iopub.status.busy": "2022-03-03T09:06:26.250679Z",
          "iopub.execute_input": "2022-03-03T09:06:26.251205Z",
          "iopub.status.idle": "2022-03-03T09:06:26.256293Z",
          "shell.execute_reply.started": "2022-03-03T09:06:26.251169Z",
          "shell.execute_reply": "2022-03-03T09:06:26.255515Z"
        },
        "trusted": true,
        "id": "4lRT8668PNZ3"
      },
      "execution_count": null,
      "outputs": []
    },
    {
      "cell_type": "code",
      "source": [
        "# df=df.astype('float16')\n",
        "df_x = make_dataset(df)\n",
        "df_x"
      ],
      "metadata": {
        "papermill": {
          "duration": 12.385962,
          "end_time": "2022-02-17T06:50:49.844364",
          "exception": false,
          "start_time": "2022-02-17T06:50:37.458402",
          "status": "completed"
        },
        "tags": [],
        "execution": {
          "iopub.status.busy": "2022-03-03T09:06:45.839866Z",
          "iopub.execute_input": "2022-03-03T09:06:45.840118Z",
          "iopub.status.idle": "2022-03-03T09:06:57.140118Z",
          "shell.execute_reply.started": "2022-03-03T09:06:45.840091Z",
          "shell.execute_reply": "2022-03-03T09:06:57.139294Z"
        },
        "trusted": true,
        "id": "kdtoVGMLPNZ3"
      },
      "execution_count": null,
      "outputs": []
    },
    {
      "cell_type": "code",
      "source": [
        "df_y = pd.DataFrame(df['target'])\n",
        "df_y"
      ],
      "metadata": {
        "papermill": {
          "duration": 0.044144,
          "end_time": "2022-02-17T06:50:49.980591",
          "exception": false,
          "start_time": "2022-02-17T06:50:49.936447",
          "status": "completed"
        },
        "tags": [],
        "execution": {
          "iopub.status.busy": "2022-03-03T09:06:57.141656Z",
          "iopub.execute_input": "2022-03-03T09:06:57.141977Z",
          "iopub.status.idle": "2022-03-03T09:06:57.156452Z",
          "shell.execute_reply.started": "2022-03-03T09:06:57.141941Z",
          "shell.execute_reply": "2022-03-03T09:06:57.155774Z"
        },
        "trusted": true,
        "id": "hfSW4HVfPNZ3"
      },
      "execution_count": null,
      "outputs": []
    },
    {
      "cell_type": "code",
      "source": [
        "del df"
      ],
      "metadata": {
        "papermill": {
          "duration": 0.092862,
          "end_time": "2022-02-17T06:50:50.169638",
          "exception": false,
          "start_time": "2022-02-17T06:50:50.076776",
          "status": "completed"
        },
        "tags": [],
        "execution": {
          "iopub.status.busy": "2022-03-03T09:07:08.393922Z",
          "iopub.execute_input": "2022-03-03T09:07:08.394490Z",
          "iopub.status.idle": "2022-03-03T09:07:08.398092Z",
          "shell.execute_reply.started": "2022-03-03T09:07:08.394449Z",
          "shell.execute_reply": "2022-03-03T09:07:08.397291Z"
        },
        "trusted": true,
        "id": "2vHrSQ3nPNZ4"
      },
      "execution_count": null,
      "outputs": []
    },
    {
      "cell_type": "code",
      "source": [
        "sns.distplot(df_y)"
      ],
      "metadata": {
        "execution": {
          "iopub.status.busy": "2022-03-03T09:07:41.501216Z",
          "iopub.execute_input": "2022-03-03T09:07:41.501756Z",
          "iopub.status.idle": "2022-03-03T09:07:51.512240Z",
          "shell.execute_reply.started": "2022-03-03T09:07:41.501722Z",
          "shell.execute_reply": "2022-03-03T09:07:51.511559Z"
        },
        "trusted": true,
        "id": "ANQsbAwpPNZ4"
      },
      "execution_count": null,
      "outputs": []
    },
    {
      "cell_type": "code",
      "source": [
        "def pythonash_model():\n",
        "    neurons = random.randint(64, 1023)\n",
        "#    leaky_rate = random.randint(1,6)/10\n",
        "    drop_rate = random.randint(1,6)/10\n",
        "    lr_rate = random.uniform(0, 0.005)\n",
        "#    decay_st = random.randint(5000, 100000)\n",
        "#    decay_ra = random.randint(97,100) /100\n",
        "    \n",
        "    inputs_ = tf.keras.Input(shape = [df_x.shape[1]])\n",
        "    x = tf.keras.layers.Dense(neurons, kernel_initializer = 'he_normal')(inputs_)\n",
        "    batch = tf.keras.layers.BatchNormalization()(x)\n",
        "    leaky = tf.keras.layers.PReLU()(batch)\n",
        "    \n",
        "    x = tf.keras.layers.Dense(neurons, kernel_initializer = 'he_normal')(leaky)\n",
        "    batch = tf.keras.layers.BatchNormalization()(x)\n",
        "    leaky = tf.keras.layers.PReLU()(batch)\n",
        "    \n",
        "    x = tf.keras.layers.Dense(neurons, kernel_initializer = 'he_normal')(leaky)\n",
        "    batch = tf.keras.layers.BatchNormalization()(x)\n",
        "    leaky = tf.keras.layers.PReLU()(batch)\n",
        "    \n",
        "    x = tf.keras.layers.Dense(neurons, kernel_initializer = 'he_normal')(leaky)\n",
        "    batch = tf.keras.layers.BatchNormalization()(x)\n",
        "    leaky = tf.keras.layers.PReLU()(batch)\n",
        "    \n",
        "    x = tf.keras.layers.Dense(neurons, kernel_initializer = 'he_normal')(leaky)\n",
        "    batch = tf.keras.layers.BatchNormalization()(x)\n",
        "    leaky = tf.keras.layers.PReLU()(batch)\n",
        "    drop = tf.keras.layers.Dropout(drop_rate)(leaky)\n",
        "    \n",
        "    x = tf.keras.layers.Dense(neurons, kernel_initializer = 'he_normal')(drop)\n",
        "    batch = tf.keras.layers.BatchNormalization()(x)\n",
        "    leaky = tf.keras.layers.PReLU()(batch)\n",
        "    \n",
        "    x = tf.keras.layers.Dense(neurons, kernel_initializer = 'he_normal')(leaky)\n",
        "    batch = tf.keras.layers.BatchNormalization()(x)\n",
        "    leaky = tf.keras.layers.PReLU()(batch)\n",
        "    drop = tf.keras.layers.Dropout(drop_rate)(leaky)\n",
        "    \n",
        "    outputs_ = tf.keras.layers.Dense(1)(drop)\n",
        "    \n",
        "    model = tf.keras.Model(inputs = inputs_, outputs = outputs_)\n",
        "    \n",
        "    rmse = tf.keras.metrics.RootMeanSquaredError()\n",
        "\n",
        "    learning_sch = tf.keras.optimizers.schedules.ExponentialDecay(\n",
        "    initial_learning_rate = lr_rate,\n",
        "    decay_steps = 10000,\n",
        "    decay_rate = 0.97)\n",
        "    \n",
        "    adam = tf.keras.optimizers.Adam(learning_rate = learning_sch)\n",
        "    \n",
        "    model.compile(loss = 'mse', metrics = rmse, optimizer = adam)\n",
        "    opt_name = str(model.optimizer).split('.')[3].split()[0]\n",
        "    print('Current set is \\n neurons: {0},\\n Drop rate: {1}, \\n learning_rate: {2}'.format(neurons, drop_rate, lr_rate))\n",
        "    \n",
        "    return neurons, drop_rate, lr_rate, model"
      ],
      "metadata": {
        "papermill": {
          "duration": 3.3428,
          "end_time": "2022-02-17T06:50:53.606125",
          "exception": false,
          "start_time": "2022-02-17T06:50:50.263325",
          "status": "completed"
        },
        "tags": [],
        "execution": {
          "iopub.status.busy": "2022-03-03T09:17:33.677731Z",
          "iopub.execute_input": "2022-03-03T09:17:33.678410Z",
          "iopub.status.idle": "2022-03-03T09:17:33.694751Z",
          "shell.execute_reply.started": "2022-03-03T09:17:33.678373Z",
          "shell.execute_reply": "2022-03-03T09:17:33.694008Z"
        },
        "trusted": true,
        "id": "2hKZ3clVPNZ4"
      },
      "execution_count": null,
      "outputs": []
    },
    {
      "cell_type": "code",
      "source": [
        "simulation_log = []\n",
        "num_iter = 1\n",
        "for iteration in np.arange(1,20):\n",
        "    num_fold = 1\n",
        "    kfold_generator = KFold(n_splits =5, shuffle=True)\n",
        "    callbacks = tf.keras.callbacks.ModelCheckpoint('pythonash_model.h5', save_best_only = True)\n",
        "    neurons, drop_rate, lr_rate, model = pythonash_model()\n",
        "    fold_model = model.save('fold_model.h5')\n",
        "    del fold_model\n",
        "    del model\n",
        "    for train_index, val_index in kfold_generator.split(df_x, df_y):\n",
        "        fold_model = tf.keras.models.load_model('fold_model.h5')\n",
        "        # Split training dataset.\n",
        "        train_x, train_y = df_x.iloc[train_index], df_y.iloc[train_index]\n",
        "        # Split validation dataset.\n",
        "        val_x, val_y = df_x.iloc[val_index], df_y.iloc[val_index]\n",
        "        # Make tensor dataset.\n",
        "        tf_train = tf.data.Dataset.from_tensor_slices((train_x, train_y)).shuffle(2022).batch(1024, drop_remainder=True).prefetch(1)\n",
        "        tf_val = tf.data.Dataset.from_tensor_slices((val_x, val_y)).shuffle(2022).batch(1024, drop_remainder=True).prefetch(1)\n",
        "        # Load model\n",
        "        ###############################################################################################        \n",
        "        print('======================================Fold %d Start!======================================='%num_fold)\n",
        "        fit_history = fold_model.fit(tf_train, callbacks = callbacks, epochs = 5, #### change the epochs into more numbers.\n",
        "                 validation_data = (tf_val), shuffle=True, verbose = 1)\n",
        "        min_loss = np.array(fit_history.history['val_loss']).min()\n",
        "        print('===========================================================================================')\n",
        "        print('Model achieves %f in validation set.' %min_loss)\n",
        "        print('===========================================================================================')\n",
        "        simulation_log.append([num_iter, num_fold, neurons, drop_rate, lr_rate, min_loss])\n",
        "        log_df = pd.DataFrame(simulation_log)\n",
        "        log_df.columns = ['num_iter','num_fold','neurons', 'drop_rate', 'lr_rate', 'min_loss']\n",
        "        print(log_df)\n",
        "        log_df.to_csv('./Parameter finder log.csv', encoding = 'utf-8-sig', index = False)\n",
        "        print('===========================================================================================')\n",
        "        # Delete tensor dataset and model for avoiding memory exploring.\n",
        "        del tf_train\n",
        "        del tf_val\n",
        "        del fit_history\n",
        "        del fold_model\n",
        "        num_fold += 1\n",
        "#     del model\n",
        "    del neurons\n",
        "    del drop_rate\n",
        "    del lr_rate\n",
        "    del min_loss\n",
        "    print('%d iteraion is over.' %num_iter)\n",
        "    print('===========================================================================================')\n",
        "    num_iter+=1\n",
        "    "
      ],
      "metadata": {
        "execution": {
          "iopub.status.busy": "2022-03-03T09:17:34.027511Z",
          "iopub.execute_input": "2022-03-03T09:17:34.028059Z"
        },
        "trusted": true,
        "id": "j05Pa_AnPNZ5"
      },
      "execution_count": null,
      "outputs": []
    },
    {
      "cell_type": "code",
      "source": [
        "best_model = tf.keras.models.load_model('pythonash_model.h5')\n",
        "best_model.summary()"
      ],
      "metadata": {
        "trusted": true,
        "id": "x2hlaxiwPNZ5"
      },
      "execution_count": null,
      "outputs": []
    },
    {
      "cell_type": "code",
      "source": [
        "best_model.layers"
      ],
      "metadata": {
        "trusted": true,
        "id": "TzKO-wA8PNZ5"
      },
      "execution_count": null,
      "outputs": []
    },
    {
      "cell_type": "code",
      "source": [
        "kfold_generator = KFold(n_splits = 5, shuffle=True, random_state = 2022)\n",
        "kfold_generator"
      ],
      "metadata": {
        "papermill": {
          "duration": 0.046542,
          "end_time": "2022-02-17T06:50:55.41161",
          "exception": false,
          "start_time": "2022-02-17T06:50:55.365068",
          "status": "completed"
        },
        "tags": [],
        "id": "ZqAgs7NsPNZ6"
      },
      "execution_count": null,
      "outputs": []
    },
    {
      "cell_type": "code",
      "source": [
        "# Write your model name down in 'pythonash_model.h5'.\n",
        "callbacks = tf.keras.callbacks.ModelCheckpoint('pythonash_model.h5', save_best_only = True)\n",
        "for train_index, val_index in kfold_generator.split(df_x, df_y):\n",
        "    # Split training dataset.\n",
        "    train_x, train_y = df_x.iloc[train_index], df_y.iloc[train_index]\n",
        "    # Split validation dataset.\n",
        "    val_x, val_y = df_x.iloc[val_index], df_y.iloc[val_index]\n",
        "    # Make tensor dataset.\n",
        "    tf_train = tf.data.Dataset.from_tensor_slices((train_x, train_y)).shuffle(2022).batch(1024, drop_remainder=True).prefetch(1)\n",
        "    tf_val = tf.data.Dataset.from_tensor_slices((val_x, val_y)).shuffle(2022).batch(1024, drop_remainder=True).prefetch(1)\n",
        "    # Load model\n",
        "    model = pythonash_model()\n",
        "    # Model fitting\n",
        "    \n",
        "    ## I used 5 epochs for fast save.\n",
        "    ## Change the epochs into more numbers.\n",
        "    model.fit(tf_train, callbacks = callbacks, epochs = 5, #### change the epochs into more numbers.\n",
        "             validation_data = (tf_val), shuffle=True)\n",
        "    # Delete tensor dataset and model for avoiding memory exploring.\n",
        "    del tf_train\n",
        "    del tf_val\n",
        "    del model"
      ],
      "metadata": {
        "papermill": {
          "duration": 568.551778,
          "end_time": "2022-02-17T07:00:24.07599",
          "exception": false,
          "start_time": "2022-02-17T06:50:55.524212",
          "status": "completed"
        },
        "tags": [],
        "id": "fzz3-4q2PNZ6"
      },
      "execution_count": null,
      "outputs": []
    },
    {
      "cell_type": "code",
      "source": [
        "best_model = tf.keras.models.load_model('pythonash_model.h5')\n",
        "env = ubiquant.make_env()   \n",
        "iter_test = env.iter_test()    \n",
        "for (test_df, sample_prediction_df) in iter_test:\n",
        "    test_df = make_dataset(test_df)\n",
        "    sample_prediction_df['target'] = best_model.predict(test_df)  \n",
        "    env.predict(sample_prediction_df)"
      ],
      "metadata": {
        "papermill": {
          "duration": 2.859981,
          "end_time": "2022-02-17T07:00:33.793431",
          "exception": false,
          "start_time": "2022-02-17T07:00:30.93345",
          "status": "completed"
        },
        "tags": [],
        "id": "PAnq6i0RPNZ6"
      },
      "execution_count": null,
      "outputs": []
    }
  ]
}