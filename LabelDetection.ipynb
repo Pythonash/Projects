{
  "nbformat": 4,
  "nbformat_minor": 0,
  "metadata": {
    "colab": {
      "provenance": [],
      "authorship_tag": "ABX9TyNFdDazCr37t/Pg7hUiuIpH",
      "include_colab_link": true
    },
    "kernelspec": {
      "name": "python3",
      "display_name": "Python 3"
    },
    "language_info": {
      "name": "python"
    }
  },
  "cells": [
    {
      "cell_type": "markdown",
      "metadata": {
        "id": "view-in-github",
        "colab_type": "text"
      },
      "source": [
        "<a href=\"https://colab.research.google.com/github/Pythonash/Projects/blob/Brain/LabelDetection.ipynb\" target=\"_parent\"><img src=\"https://colab.research.google.com/assets/colab-badge.svg\" alt=\"Open In Colab\"/></a>"
      ]
    },
    {
      "cell_type": "code",
      "execution_count": null,
      "metadata": {
        "id": "rbyXjbRD5zx2"
      },
      "outputs": [],
      "source": [
        "import pyautogui\n",
        "import pyperclip\n",
        "import pandas as pd\n",
        "import numpy as np\n",
        "import matplotlib.pyplot as plt\n",
        "import keyboard\n",
        "import time\n",
        "labels = []\n",
        "\n",
        "\n",
        "\n",
        "for i in range(1000000):\n",
        "    print(f'현재 단계 {i}')\n",
        "    while True:\n",
        "        if keyboard.is_pressed('space'):\n",
        "            break\n",
        "    time.sleep(0.5)\n",
        "    pyautogui.hotkey('ctrl', 'a')\n",
        "    time.sleep(0.5)\n",
        "    pyautogui.hotkey('ctrl', 'c')\n",
        "    time.sleep(0.5)\n",
        "    xmin = pyperclip.paste()\n",
        "    time.sleep(0.5)\n",
        "    pyautogui.press('tab')\n",
        "    time.sleep(0.5)\n",
        "    pyautogui.hotkey('ctrl', 'c')\n",
        "    time.sleep(0.5)\n",
        "    xmax = pyperclip.paste()\n",
        "    time.sleep(0.5)\n",
        "    pyautogui.press('tab')\n",
        "    time.sleep(0.5)\n",
        "    pyautogui.press('tab')\n",
        "    time.sleep(0.5)\n",
        "    pyautogui.press('tab')\n",
        "    time.sleep(0.5)\n",
        "    pyautogui.hotkey('ctrl', 'c')\n",
        "    time.sleep(0.5)\n",
        "    ymax = pyperclip.paste()\n",
        "    time.sleep(0.5)\n",
        "    pyautogui.press('tab')\n",
        "    time.sleep(0.5)\n",
        "    pyautogui.hotkey('ctrl', 'c')\n",
        "    time.sleep(0.5)\n",
        "    ymin = pyperclip.paste()\n",
        "    time.sleep(0.5)\n",
        "    print(f'xmin: {xmin}')\n",
        "    print(f'ymin: {ymin}')\n",
        "    print(f'xmax: {xmax}')\n",
        "    print(f'ymax: {ymax}')\n",
        "\n",
        "    labels.append([xmin, ymin, xmax, ymax])\n",
        "\n",
        "    labels_result = pd.DataFrame(labels)\n",
        "    labels_result.columns = ['xmin','ymin','xmax','ymax']\n",
        "    labels_result.to_csv('C:\\\\Users\\\\userr\\\\Desktop\\\\도면10레이블.csv', index = False, encoding = 'utf-8-sig')\n",
        "    print('단계 끝')\n",
        "    print()"
      ]
    }
  ]
}